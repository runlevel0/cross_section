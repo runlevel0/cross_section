{
 "cells": [
  {
   "cell_type": "markdown",
   "metadata": {},
   "source": [
    "# Basic Usage\r\n",
    "\r\n",
    "Once installed, `cross_section` can be imported."
   ]
  },
  {
   "cell_type": "code",
   "execution_count": null,
   "metadata": {},
   "outputs": [],
   "source": [
    "from cross_section import sections"
   ]
  }
 ],
 "metadata": {
  "interpreter": {
   "hash": "4e59ef6fe47b48b494e7c573cdd586f16bd1d3495d123e909dcd5178664dfa9e"
  },
  "kernelspec": {
   "display_name": "Python 3.8.5 64-bit ('cross_section_venv')",
   "name": "python3"
  },
  "language_info": {
   "name": "python",
   "version": ""
  },
  "orig_nbformat": 4
 },
 "nbformat": 4,
 "nbformat_minor": 2
}